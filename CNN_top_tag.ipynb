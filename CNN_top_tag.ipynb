{
  "cells": [
    {
      "cell_type": "code",
      "execution_count": null,
      "metadata": {
        "id": "JoBBZA52oILU"
      },
      "outputs": [],
      "source": [
        "%matplotlib inline\n",
        "\n",
        "\n",
        "#for sample training of this network, only the first 10000 events will be used\n",
        "\n",
        "import numpy as np\n",
        "import math\n",
        "import matplotlib.pyplot as plt\n",
        "import pandas as pd\n",
        "import seaborn as sns\n",
        "from typing import Iterable, List\n",
        "from timeit import default_timer as timer\n",
        "\n",
        "import torch\n",
        "import torch.nn as nn\n",
        "from torch.nn import Transformer\n",
        "from torch import Tensor\n",
        "\n",
        "np.random.seed(0)\n",
        "torch.manual_seed(0)\n",
        "\n",
        "DEVICE = torch.device('cuda' if torch.cuda.is_available() else 'cpu')\n"
      ]
    },
    {
      "cell_type": "code",
      "execution_count": null,
      "metadata": {
        "id": "xf_MHkK6u0Eb"
      },
      "outputs": [],
      "source": [
        "#summary.npz contains the first 10,000 datapoint in the following format\n",
        "#ith data: x: summary[2*i], y: summary[2*i+1]"
      ]
    },
    {
      "cell_type": "code",
      "execution_count": null,
      "metadata": {
        "id": "KiTxx9pjwmw8"
      },
      "outputs": [],
      "source": [
        "#convert data into images\n",
        "from numpy import load\n",
        "FILE = \"summary.npz\"\n",
        "data = load(FILE)\n",
        "\n",
        "\n",
        "training_size = 10000\n",
        "\n",
        "'''\n",
        "the images will contain 2 channels as input\n",
        "channel 1: momentum\n",
        "channel 2: energy\n",
        "\n",
        "each image will be 40x40\n",
        "momentum and energy will be sumed if they are in the same eta/phi square\n",
        "'''\n",
        "\n",
        "image_size = 40\n",
        "\n",
        "etaMin = 100000.0\n",
        "etaMax = -100000.0\n",
        "phiMin = 100000.0\n",
        "phiMax = -100000.0\n",
        "\n",
        "#function to scale data\n",
        "def scale_data(arr):\n",
        "  etaMin = 100000.0\n",
        "  etaMax = -100000.0\n",
        "  phiMin = 100000.0\n",
        "  phiMax = -100000.0\n",
        "  if(len(arr)!=0):\n",
        "      scaled_data = np.zeros((len(arr), len(arr[0])))\n",
        "  else:\n",
        "      return []\n",
        "\n",
        "    #iterate each column\n",
        "  for col_num in range(5):\n",
        "        #iterate through each element in the column by its row number\n",
        "\n",
        "      for row_num in range(len(arr)):\n",
        "\n",
        "        scaled_data[row_num][col_num] = arr[row_num][col_num]\n",
        "\n",
        "        if(col_num == 1): #eta column\n",
        "          etaMin = min(etaMin, scaled_data[row_num][col_num])\n",
        "          etaMax = max(etaMax, scaled_data[row_num][col_num])\n",
        "\n",
        "        if(col_num == 2): #phi column\n",
        "          phiMin = min(phiMin, scaled_data[row_num][col_num])\n",
        "          phiMax = max(phiMax, scaled_data[row_num][col_num])\n",
        "\n",
        "\n",
        "  return [scaled_data, etaMin, etaMax, phiMin, phiMax]\n",
        "\n",
        "\n",
        "numParticle = []\n",
        "for i in range(5):\n",
        "  numParticle.append(0)\n",
        "\n",
        "\n",
        "averagedMomentum = []\n",
        "averagedEnergy = []\n",
        "for z in range(6):\n",
        "  averagedMomentum.append([])\n",
        "  averagedEnergy.append([])\n",
        "  for i in range(image_size):\n",
        "\n",
        "    averagedMomentum[z].append([])\n",
        "    averagedEnergy[z].append([])\n",
        "\n",
        "    for j in range(image_size):\n",
        "      averagedMomentum[z][i].append(0)\n",
        "      averagedEnergy[z][i].append(0)\n",
        "def convertToImage(arr, typeParticle):\n",
        "  #standardize eta and phi column\n",
        "  scaled_data_minmax = scale_data(arr)\n",
        "  arr = scaled_data_minmax[0]\n",
        "  etaMin = scaled_data_minmax[1]\n",
        "  etaMax = scaled_data_minmax[2]\n",
        "  phiMin = scaled_data_minmax[3]\n",
        "  phiMax = scaled_data_minmax[4]\n",
        "\n",
        "  #eta/phi change to image_size\n",
        "  etaStep = (etaMax - etaMin)/float(image_size-1)\n",
        "  phiStep = (phiMax - phiMin)/float(image_size-1)\n",
        "\n",
        "#initialize with all zeros\n",
        "  retMomentum = []\n",
        "  retEnergy = []\n",
        "  for i in range(image_size):\n",
        "\n",
        "    retMomentum.append([])\n",
        "    retEnergy.append([])\n",
        "\n",
        "    for j in range(image_size):\n",
        "      retMomentum[i].append(0)\n",
        "      retEnergy[i].append(0)\n",
        "  #change eta/phi to current\n",
        "  for i in range(1, 3):\n",
        "    for row_num in range(len(arr)):\n",
        "      if(i==1):\n",
        "        if(etaStep!=0):\n",
        "          arr[row_num][i] = int((arr[row_num][i]-etaMin)/etaStep)\n",
        "        else:\n",
        "          arr[row_num][i] = 0\n",
        "      if(i==2):\n",
        "        if(phiStep!=0):\n",
        "          arr[row_num][i] = int((arr[row_num][i]-phiMin)/phiStep)\n",
        "        else:\n",
        "          arr[row_num][i] = 0\n",
        "   #sum up energy and momentum in location\n",
        "  for row_num in range(len(arr)):\n",
        "    x, y = int(arr[row_num][1]), int(arr[row_num][2])\n",
        "\n",
        "    retMomentum[x][y] += arr[row_num][0]\n",
        "    averagedMomentum[0][x][y] += arr[row_num][0]/(training_size)\n",
        "    averagedMomentum[typeParticle][x][y] += arr[row_num][0]\n",
        "    numParticle[typeParticle]+=1;\n",
        "\n",
        "    retEnergy[x][y] += arr[row_num][3]\n",
        "    averagedEnergy[0][x][y] += arr[row_num][3]/(training_size)\n",
        "    averagedEnergy[typeParticle][x][y] += arr[row_num][3]\n",
        "\n",
        "\n",
        "  return [retMomentum, retEnergy]\n",
        "\n",
        "i = 0\n",
        "training = []\n",
        "target = []\n",
        "\n",
        "while(i < training_size):\n",
        "  cur = data[\"arr_\" + str(2*i)]\n",
        "  typeParticle = 0\n",
        "  for j in range(5):\n",
        "    if data[\"arr_\" + str(2*i+1)][j] == 1:\n",
        "      typeParticle = j\n",
        "\n",
        "  cur = convertToImage(cur, typeParticle)\n",
        "\n",
        "  training.append(cur)\n",
        "  target.append(data[\"arr_\" + str(2*i+1)])\n",
        "  i = i + 1\n",
        "\n",
        "\n",
        "for i in range(5):\n",
        "  for j in range(image_size):\n",
        "    for z in range(image_size):\n",
        "      averagedMomentum[i+1][j][z] /= numParticle[i]\n",
        "      averagedEnergy[i+1][j][z] /= numParticle[i]"
      ]
    },
    {
      "cell_type": "code",
      "execution_count": null,
      "metadata": {
        "colab": {
          "base_uri": "https://localhost:8080/",
          "height": 98
        },
        "id": "YgO_zbuEqJyk",
        "outputId": "3a0653e9-643d-4724-b483-f84a882ea40b"
      },
      "outputs": [
        {
          "data": {
            "image/png": "[encoded data removed]",
            "text/plain": [
              "<Figure size 1000x1000 with 12 Axes>"
            ]
          },
          "metadata": {},
          "output_type": "display_data"
        }
      ],
      "source": [
        "#visualize model\n",
        "plt.figure(figsize = (10, 10))\n",
        "\n",
        "plt.subplot(1,12,1)\n",
        "\n",
        "\n",
        "for i in range(6):\n",
        "  plt.subplot(1, 12, 2*i + 1)\n",
        "  plt.imshow(averagedMomentum[i], cmap = 'Greys')\n",
        "\n",
        "  plt.subplot(1, 12, 2*i + 2)\n",
        "  plt.imshow(averagedEnergy[i], cmap = 'Greys')\n"
      ]
    },
    {
      "cell_type": "code",
      "execution_count": null,
      "metadata": {
        "colab": {
          "base_uri": "https://localhost:8080/"
        },
        "id": "cDtXbuHxCdOM",
        "outputId": "57990fd4-1334-45a2-edb4-30c11da68652"
      },
      "outputs": [
        {
          "name": "stdout",
          "output_type": "stream",
          "text": [
            "137927 81068 82378 82448 133561 "
          ]
        }
      ],
      "source": [
        "for i in numParticle:\n",
        "  print(i, end = ' ')"
      ]
    },
    {
      "cell_type": "markdown",
      "metadata": {
        "id": "85ANHt0gOCsg"
      },
      "source": [
        "# Define Model"
      ]
    },
    {
      "cell_type": "code",
      "execution_count": null,
      "metadata": {
        "id": "kla8_C6pOFWd"
      },
      "outputs": [],
      "source": [
        "class CNNModel(torch.nn.Module):\n",
        "\n",
        "    def __init__(self):\n",
        "\n",
        "        super(CNNModel, self).__init__()\n",
        "\n",
        "        # YOUR CODE HERE\n",
        "        self.cnn1 = torch.nn.Conv2d(in_channels = 2,\n",
        "                                    out_channels = 56, kernel_size = 3,\n",
        "                                    stride = 1, padding = 0)\n",
        "\n",
        "        self.maxpool1 = torch.nn.MaxPool2d(kernel_size = 2, stride = 2)\n",
        "\n",
        "        self.dropout = torch.nn.Dropout(p=0.1)\n",
        "\n",
        "        self.cnn2 = torch.nn.Conv2d(in_channels = 56, out_channels = 16,\n",
        "                                    kernel_size = 2, stride = 1, padding = 0)\n",
        "\n",
        "        self.maxpool2 = torch.nn.MaxPool2d(kernel_size = 2, stride = 2)\n",
        "\n",
        "        self.fc1 = torch.nn.Linear(9*9*16, 256)\n",
        "\n",
        "        self.fc2 = torch.nn.Linear(256, 50)\n",
        "\n",
        "        self.fc3 = torch.nn.Linear(50, 10)\n",
        "\n",
        "        self.output_layer = torch.nn.Linear(10, 5)\n",
        "\n",
        "    def forward(self, x):\n",
        "\n",
        "        # YOUR CODE HERE\n",
        "        # Note: If you are using CrossEntropyLoss() do NOT apply softmax to the final ouput\n",
        "        # since it's incorporated within the loss function\n",
        "        # input image -> conv1 -> relu -> maxpool1\n",
        "        conv1_out = torch.nn.functional.relu(self.cnn1(x))\n",
        "        pool1_out = self.maxpool1(conv1_out)\n",
        "\n",
        "        conv2_out = torch.nn.functional.relu(self.cnn2(pool1_out))\n",
        "        pool2_out = self.maxpool2(conv2_out)\n",
        "\n",
        "        fcn_input = pool2_out.view(pool2_out.size(0), -1)\n",
        "\n",
        "        layer_fc1 = torch.nn.functional.relu(self.fc1(fcn_input))\n",
        "        layer_fc1 = self.dropout(layer_fc1)\n",
        "        layer_fc2 = torch.nn.functional.relu(self.fc2(layer_fc1))\n",
        "\n",
        "        layer_fc3 = torch.nn.functional.relu(self.fc3(layer_fc2))\n",
        "        output = self.output_layer(layer_fc3)\n",
        "\n",
        "        return output"
      ]
    },
    {
      "cell_type": "code",
      "execution_count": null,
      "metadata": {
        "colab": {
          "base_uri": "https://localhost:8080/"
        },
        "id": "me5pvKcaJsCM",
        "outputId": "2338340d-252f-4f31-b296-aef0c36ac00e"
      },
      "outputs": [
        {
          "data": {
            "text/plain": [
              "CNNModel(\n",
              "  (cnn1): Conv2d(2, 56, kernel_size=(3, 3), stride=(1, 1))\n",
              "  (maxpool1): MaxPool2d(kernel_size=2, stride=2, padding=0, dilation=1, ceil_mode=False)\n",
              "  (dropout): Dropout(p=0.1, inplace=False)\n",
              "  (cnn2): Conv2d(56, 16, kernel_size=(2, 2), stride=(1, 1))\n",
              "  (maxpool2): MaxPool2d(kernel_size=2, stride=2, padding=0, dilation=1, ceil_mode=False)\n",
              "  (fc1): Linear(in_features=1296, out_features=256, bias=True)\n",
              "  (fc2): Linear(in_features=256, out_features=50, bias=True)\n",
              "  (fc3): Linear(in_features=50, out_features=10, bias=True)\n",
              "  (output_layer): Linear(in_features=10, out_features=5, bias=True)\n",
              ")"
            ]
          },
          "execution_count": 7,
          "metadata": {},
          "output_type": "execute_result"
        }
      ],
      "source": [
        "torch.manual_seed(55)\n",
        "\n",
        "model = CNNModel()\n",
        "\n",
        "learning_rate = 0.01\n",
        "epochs = 50\n",
        "batchsize = 1000\n",
        "\n",
        "loss_func = torch.nn.CrossEntropyLoss()\n",
        "optimizer = torch.optim.Adam(model.parameters(), lr = learning_rate)\n",
        "\n",
        "model"
      ]
    },
    {
      "cell_type": "code",
      "execution_count": null,
      "metadata": {
        "colab": {
          "background_save": true,
          "base_uri": "https://localhost:8080/"
        },
        "id": "-9zr-1SiJ3kW",
        "outputId": "a593071b-8a1f-46df-8733-b21f0c468b38"
      },
      "outputs": [
        {
          "name": "stdout",
          "output_type": "stream",
          "text": [
            "Epoch: 0, Validation Accuracy: 21.9%\n",
            "Epoch: 1, Validation Accuracy: 27.8%\n",
            "Epoch: 2, Validation Accuracy: 25.8%\n",
            "Epoch: 3, Validation Accuracy: 30.9%\n",
            "Epoch: 4, Validation Accuracy: 34.9%\n",
            "Epoch: 5, Validation Accuracy: 36.5%\n",
            "Epoch: 6, Validation Accuracy: 39.5%\n",
            "Epoch: 7, Validation Accuracy: 39.3%\n",
            "Epoch: 8, Validation Accuracy: 42.4%\n",
            "Epoch: 9, Validation Accuracy: 41.2%\n",
            "Epoch: 10, Validation Accuracy: 41.8%\n",
            "Epoch: 11, Validation Accuracy: 41.7%\n",
            "Epoch: 12, Validation Accuracy: 44.3%\n",
            "Epoch: 13, Validation Accuracy: 44.1%\n",
            "Epoch: 14, Validation Accuracy: 43.6%\n",
            "Epoch: 15, Validation Accuracy: 44.0%\n",
            "Epoch: 16, Validation Accuracy: 41.4%\n",
            "Epoch: 17, Validation Accuracy: 40.0%\n",
            "Epoch: 18, Validation Accuracy: 42.0%\n",
            "Epoch: 19, Validation Accuracy: 42.8%\n",
            "Epoch: 20, Validation Accuracy: 42.8%\n",
            "Epoch: 21, Validation Accuracy: 41.7%\n",
            "Epoch: 22, Validation Accuracy: 43.4%\n",
            "Epoch: 23, Validation Accuracy: 44.2%\n",
            "Epoch: 24, Validation Accuracy: 45.0%\n",
            "Epoch: 25, Validation Accuracy: 45.1%\n",
            "Epoch: 26, Validation Accuracy: 45.8%\n",
            "Epoch: 27, Validation Accuracy: 44.1%\n",
            "Epoch: 28, Validation Accuracy: 42.3%\n",
            "Epoch: 29, Validation Accuracy: 38.6%\n",
            "Epoch: 30, Validation Accuracy: 42.9%\n",
            "Epoch: 31, Validation Accuracy: 43.8%\n",
            "Epoch: 32, Validation Accuracy: 44.3%\n",
            "Epoch: 33, Validation Accuracy: 44.2%\n",
            "Epoch: 34, Validation Accuracy: 42.8%\n",
            "Epoch: 35, Validation Accuracy: 43.7%\n",
            "Epoch: 36, Validation Accuracy: 44.1%\n",
            "Epoch: 37, Validation Accuracy: 44.4%\n",
            "Epoch: 38, Validation Accuracy: 42.2%\n",
            "Epoch: 39, Validation Accuracy: 43.7%\n",
            "Epoch: 40, Validation Accuracy: 42.2%\n",
            "Epoch: 41, Validation Accuracy: 41.8%\n",
            "Epoch: 42, Validation Accuracy: 41.4%\n",
            "Epoch: 43, Validation Accuracy: 40.9%\n",
            "Epoch: 44, Validation Accuracy: 38.2%\n",
            "Epoch: 45, Validation Accuracy: 41.3%\n",
            "Epoch: 46, Validation Accuracy: 41.2%\n",
            "Epoch: 47, Validation Accuracy: 41.0%\n",
            "Epoch: 48, Validation Accuracy: 40.8%\n",
            "Epoch: 49, Validation Accuracy: 40.2%\n"
          ]
        }
      ],
      "source": [
        "validation = training[:1000]\n",
        "validation_target = target[:1000]\n",
        "training = training[1000:]\n",
        "training_target = target[1000:]\n",
        "batch_split_num = len(target)//(batchsize)\n",
        "\n",
        "training = torch.from_numpy(np.array(training)).float()\n",
        "training_target = torch.from_numpy(np.array(training_target)).float()\n",
        "validation = torch.from_numpy(np.array(validation)).float()\n",
        "validation_target = torch.from_numpy(np.array(validation_target)).float()\n",
        "\n",
        "train_batches = torch.split(training, batchsize)\n",
        "target_batches = torch.split(training_target, batchsize)\n",
        "batch_split_num = len(train_batches)\n",
        "\n",
        "train_loss_list = np.zeros(epochs*batch_split_num)# YOUR CODE HERE\n",
        "validation_accuracy_list = np.zeros(epochs*batch_split_num)\n",
        "\n",
        "for epoch in range(epochs):\n",
        "\n",
        "    # YOUR CODE HERE\n",
        "    for k in range(batch_split_num):\n",
        "\n",
        "      optimizer.zero_grad()\n",
        "\n",
        "      train_batch_outputs = model(train_batches[k])\n",
        "      loss = loss_func(train_batch_outputs, target_batches[k])\n",
        "\n",
        "      train_loss_list[epoch * batch_split_num + k] = (loss.item())\n",
        "\n",
        "      loss.backward()\n",
        "      optimizer.step()\n",
        "\n",
        "    with torch.no_grad():\n",
        "      validation_outputs = model(validation)\n",
        "\n",
        "      cur_predict = torch.argmax(validation_outputs, dim = 1)\n",
        "      correct = torch.argmax(validation_target, dim = 1)\n",
        "\n",
        "\n",
        "      num_correct = 0\n",
        "      for z in range(len(validation_outputs)):\n",
        "        if(cur_predict[z] == correct[z]):\n",
        "          num_correct+=1\n",
        "\n",
        "\n",
        "      num_correct /= (len(validation_outputs))\n",
        "\n",
        "\n",
        "      print(\"Epoch: {}, Validation Accuracy: {}%\".format(epoch, np.round(num_correct*100, 2)))\n",
        "    # YOUR CODE HERE\n",
        "      validation_accuracy_list[epoch] = num_correct"
      ]
    },
    {
      "cell_type": "code",
      "execution_count": null,
      "metadata": {
        "colab": {
          "background_save": true
        },
        "id": "6lO5AXJMK7DJ",
        "outputId": "0af6d32b-6c95-4cd0-e08b-2add1ece6af7"
      },
      "outputs": [
        {
          "name": "stdout",
          "output_type": "stream",
          "text": [
            "[114, 57, 51, 61, 113]\n",
            "[198, 184, 207, 192, 219]\n"
          ]
        }
      ],
      "source": [
        "category_correct = []\n",
        "num_category = []\n",
        "for i in range(5):\n",
        "  category_correct.append(0)\n",
        "  num_category.append(0)\n",
        "\n",
        "with torch.no_grad():\n",
        "  validation_outputs = model(validation)\n",
        "\n",
        "  cur_predict = torch.argmax(validation_outputs, dim = 1)\n",
        "  correct = torch.argmax(validation_target, dim = 1)\n",
        "\n",
        "\n",
        "  num_correct = 0\n",
        "  for z in range(len(validation_outputs)):\n",
        "    if(cur_predict[z] == correct[z]):\n",
        "       category_correct[correct[z]]+=1\n",
        "    num_category[correct[z]] += 1\n",
        "\n",
        "\n",
        "print(category_correct)\n",
        "print(num_category)"
      ]
    }
  ],
  "metadata": {
    "accelerator": "GPU",
    "colab": {
      "gpuType": "T4",
      "provenance": []
    },
    "kernelspec": {
      "display_name": "Python 3",
      "name": "python3"
    },
    "language_info": {
      "name": "python"
    }
  },
  "nbformat": 4,
  "nbformat_minor": 0
}